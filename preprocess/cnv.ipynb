{
 "cells": [
  {
   "cell_type": "code",
   "execution_count": 19,
   "metadata": {},
   "outputs": [],
   "source": [
    "import pandas as pd\n",
    "import numpy as np\n",
    "from sklearn.feature_selection import VarianceThreshold\n",
    "from sklearn.preprocessing import MinMaxScaler\n",
    "\n",
    "THRESHOLD = 0.45\n",
    "CNV_PATH = './data/Gistic2_CopyNumber_Gistic2_all_data_by_genes'\n",
    "\n",
    "def VarianceSelect(data, t):\n",
    "\tselector = VarianceThreshold(threshold=t)\n",
    "\tresult_select = selector.fit_transform(data)\n",
    "\tresult_support = selector.get_support(indices=True)\n",
    "\treturn result_select, result_support"
   ]
  },
  {
   "cell_type": "code",
   "execution_count": 2,
   "metadata": {},
   "outputs": [],
   "source": [
    "data_cnv = pd.read_csv(CNV_PATH, sep='\\t')\n",
    "cnv_samples = pd.read_csv(CNV_PATH, sep='\\t', header=None, nrows=1)\n",
    "cnv_samples = cnv_samples.values.tolist()\n",
    "cnv_samples = cnv_samples[0]\n",
    "cnv_samples = cnv_samples[1:]\n",
    "for j in range(len(cnv_samples)):\n",
    "    cnv_samples[j] = cnv_samples[j][:12]\n",
    "data_cnv.columns = ['sample'] + cnv_samples\n",
    "data_cnv.fillna(0.0, inplace=True)\n",
    "data_cnv = data_cnv.T\n",
    "data_cnv.drop(index='sample', inplace=True)"
   ]
  },
  {
   "cell_type": "code",
   "execution_count": 4,
   "metadata": {},
   "outputs": [],
   "source": [
    "# Read patients ID in preprocessed clinical data\n",
    "data_clin = pd.read_csv('./preprocessed_data/Pc_clinical_emb_OV.csv', header=None)\n",
    "clin_samples = data_clin[[0]]\n",
    "clin_samples = clin_samples.values.tolist()\n",
    "clinical_samples = list()\n",
    "for i in range(len(clin_samples)):\n",
    "\tclinical_samples.append(clin_samples[i][0])\n",
    "clin_samples = clinical_samples"
   ]
  },
  {
   "cell_type": "code",
   "execution_count": 8,
   "metadata": {},
   "outputs": [],
   "source": [
    "data_cnv = data_cnv.loc[data_cnv.index.isin(clin_samples)]"
   ]
  },
  {
   "cell_type": "code",
   "execution_count": 10,
   "metadata": {},
   "outputs": [],
   "source": [
    "# Remove the rows with same patient ID\n",
    "data_cnv.reset_index(inplace=True)\n",
    "data_cnv = data_cnv.drop_duplicates(['index'])\n",
    "data_cnv.reset_index(drop=True)\n",
    "data_cnv.set_index('index', inplace=True)"
   ]
  },
  {
   "cell_type": "code",
   "execution_count": 20,
   "metadata": {},
   "outputs": [],
   "source": [
    "# Variance threshold\n",
    "res, _ = VarianceSelect(data_cnv, THRESHOLD)\n",
    "cnv_df = pd.DataFrame(res)"
   ]
  },
  {
   "cell_type": "code",
   "execution_count": 22,
   "metadata": {},
   "outputs": [],
   "source": [
    "# min-max normalization\n",
    "scaler = MinMaxScaler()\n",
    "cnv_0_1 = scaler.fit_transform(cnv_df)\n",
    "cnv_f_df = pd.DataFrame(cnv_0_1)\n",
    "cnv_f_df.index = data_cnv.index\n",
    "cnv_f_df.reset_index(inplace=True)"
   ]
  },
  {
   "cell_type": "code",
   "execution_count": 23,
   "metadata": {},
   "outputs": [],
   "source": [
    "# Create all zero vector\n",
    "a = cnv_f_df[cnv_f_df[\"index\"] == cnv_f_df[\"index\"].iloc[-1]]\n",
    "sample_row = a.copy()\n",
    "sample_row['index'] = 'xx'\n",
    "for j in range(cnv_f_df.shape[1]-1):\n",
    "\tsample_row[j] = 0.0"
   ]
  },
  {
   "cell_type": "code",
   "execution_count": 24,
   "metadata": {},
   "outputs": [],
   "source": [
    "# Fill NaN with zero vectors\n",
    "i = 0\n",
    "data_list = []\n",
    "for x in clin_samples:\n",
    "\tif i == 0:\n",
    "\t\tcnv = cnv_f_df[cnv_f_df['index']  == x]\n",
    "\t\tif cnv.shape[0] == 0:\n",
    "\t\t\tcnv = sample_row.copy()\n",
    "\t\t\tcnv['index'] = x\n",
    "\t\ti += 1\n",
    "\t\tdata_list.append(cnv)\n",
    "\n",
    "\telse:\n",
    "\t\tcnv_row = cnv_f_df[cnv_f_df['index'] == x]\n",
    "\t\tif cnv_row.shape[0] == 0:\n",
    "\t\t\tcnv_row = sample_row.copy()\n",
    "\t\t\tcnv_row['index'] = x\n",
    "\t\tdata_list.append(cnv_row)\n",
    "cnv = pd.concat(data_list)"
   ]
  },
  {
   "cell_type": "code",
   "execution_count": 25,
   "metadata": {},
   "outputs": [],
   "source": [
    "cnv.set_index('index', inplace=True)\n",
    "cnv.to_csv(f'preprocessed_data/PC_CNV_threshold_{int(THRESHOLD*100)}_OV.csv', header=False, index=False)\n"
   ]
  },
  {
   "cell_type": "code",
   "execution_count": 31,
   "metadata": {},
   "outputs": [
    {
     "data": {
      "text/plain": [
       "0.030927835051546393"
      ]
     },
     "execution_count": 31,
     "metadata": {},
     "output_type": "execute_result"
    }
   ],
   "source": [
    "(cnv.sum(axis=1) == 0).sum()/ len(cnv)"
   ]
  }
 ],
 "metadata": {
  "kernelspec": {
   "display_name": "multiomics",
   "language": "python",
   "name": "python3"
  },
  "language_info": {
   "codemirror_mode": {
    "name": "ipython",
    "version": 3
   },
   "file_extension": ".py",
   "mimetype": "text/x-python",
   "name": "python",
   "nbconvert_exporter": "python",
   "pygments_lexer": "ipython3",
   "version": "3.8.18"
  }
 },
 "nbformat": 4,
 "nbformat_minor": 2
}
